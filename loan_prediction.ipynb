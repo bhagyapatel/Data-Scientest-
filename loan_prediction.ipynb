{
  "nbformat": 4,
  "nbformat_minor": 0,
  "metadata": {
    "colab": {
      "name": "Untitled8.ipynb",
      "provenance": [],
      "collapsed_sections": [],
      "authorship_tag": "ABX9TyNNDQr2vqsu2kQ3rFVq/qUT",
      "include_colab_link": true
    },
    "kernelspec": {
      "name": "python3",
      "display_name": "Python 3"
    }
  },
  "cells": [
    {
      "cell_type": "markdown",
      "metadata": {
        "id": "view-in-github",
        "colab_type": "text"
      },
      "source": [
        "<a href=\"https://colab.research.google.com/github/bhagyapatel/Data-Scientest-/blob/main/loan_prediction.ipynb\" target=\"_parent\"><img src=\"https://colab.research.google.com/assets/colab-badge.svg\" alt=\"Open In Colab\"/></a>"
      ]
    },
    {
      "cell_type": "markdown",
      "metadata": {
        "id": "Gr9LcPbqfv6T"
      },
      "source": [
        "DESCRIPTION\r\n",
        "\r\n",
        "For safe and secure lending experience, it's important to analyze the past data. In this project, you have to build a deep learning model to predict the chance of default for future loans using the historical data. As you will see, this dataset is highly imbalanced and includes a lot of features that make this problem more challenging.\r\n",
        "\r\n",
        "Objective: Create a model that predicts whether or not an applicant will be able to repay a loan using historical data.\r\n",
        "\r\n",
        "Domain: Finance"
      ]
    },
    {
      "cell_type": "markdown",
      "metadata": {
        "id": "O_E7mPiWf9Pt"
      },
      "source": [
        "  Load the dataset that is given to you"
      ]
    },
    {
      "cell_type": "code",
      "metadata": {
        "id": "hCmFjn5zuYCV"
      },
      "source": [
        "import pandas as pd\r\n",
        "import numpy as np\r\n",
        "import tensorflow as tf\r\n",
        "import matplotlib.pyplot as plt\r\n",
        "%matplotlib inline\r\n",
        "import seaborn as sns"
      ],
      "execution_count": 2,
      "outputs": []
    },
    {
      "cell_type": "code",
      "metadata": {
        "id": "SpLA5Op4ucOJ"
      },
      "source": [
        "from pydrive.auth import GoogleAuth\r\n",
        "from pydrive.drive import GoogleDrive\r\n",
        "from google.colab import auth\r\n",
        "from oauth2client.client import GoogleCredentials\r\n",
        "\r\n",
        "auth.authenticate_user()\r\n",
        "gauth = GoogleAuth()\r\n",
        "gauth.credentials = GoogleCredentials.get_application_default()\r\n",
        "drive = GoogleDrive(gauth)"
      ],
      "execution_count": 3,
      "outputs": []
    },
    {
      "cell_type": "code",
      "metadata": {
        "colab": {
          "base_uri": "https://localhost:8080/",
          "height": 321
        },
        "id": "CKyxWEF_ucRF",
        "outputId": "82fa7d35-ef69-4b7d-f376-dd503ca09ba2"
      },
      "source": [
        "downloaded = drive.CreateFile({'id':'1HtcH7TNQjBrM0EpNDGkQbAOD2g2J5DYC'})\r\n",
        "df = downloaded.GetContentFile(\"loan_data.csv\") \r\n",
        "df = pd.read_csv(\"loan_data.csv\")\r\n",
        "df.head()"
      ],
      "execution_count": 4,
      "outputs": [
        {
          "output_type": "execute_result",
          "data": {
            "text/html": [
              "<div>\n",
              "<style scoped>\n",
              "    .dataframe tbody tr th:only-of-type {\n",
              "        vertical-align: middle;\n",
              "    }\n",
              "\n",
              "    .dataframe tbody tr th {\n",
              "        vertical-align: top;\n",
              "    }\n",
              "\n",
              "    .dataframe thead th {\n",
              "        text-align: right;\n",
              "    }\n",
              "</style>\n",
              "<table border=\"1\" class=\"dataframe\">\n",
              "  <thead>\n",
              "    <tr style=\"text-align: right;\">\n",
              "      <th></th>\n",
              "      <th>SK_ID_CURR</th>\n",
              "      <th>TARGET</th>\n",
              "      <th>NAME_CONTRACT_TYPE</th>\n",
              "      <th>CODE_GENDER</th>\n",
              "      <th>FLAG_OWN_CAR</th>\n",
              "      <th>FLAG_OWN_REALTY</th>\n",
              "      <th>CNT_CHILDREN</th>\n",
              "      <th>AMT_INCOME_TOTAL</th>\n",
              "      <th>AMT_CREDIT</th>\n",
              "      <th>AMT_ANNUITY</th>\n",
              "      <th>AMT_GOODS_PRICE</th>\n",
              "      <th>NAME_TYPE_SUITE</th>\n",
              "      <th>NAME_INCOME_TYPE</th>\n",
              "      <th>NAME_EDUCATION_TYPE</th>\n",
              "      <th>NAME_FAMILY_STATUS</th>\n",
              "      <th>NAME_HOUSING_TYPE</th>\n",
              "      <th>REGION_POPULATION_RELATIVE</th>\n",
              "      <th>DAYS_BIRTH</th>\n",
              "      <th>DAYS_EMPLOYED</th>\n",
              "      <th>DAYS_REGISTRATION</th>\n",
              "      <th>DAYS_ID_PUBLISH</th>\n",
              "      <th>OWN_CAR_AGE</th>\n",
              "      <th>FLAG_MOBIL</th>\n",
              "      <th>FLAG_EMP_PHONE</th>\n",
              "      <th>FLAG_WORK_PHONE</th>\n",
              "      <th>FLAG_CONT_MOBILE</th>\n",
              "      <th>FLAG_PHONE</th>\n",
              "      <th>FLAG_EMAIL</th>\n",
              "      <th>OCCUPATION_TYPE</th>\n",
              "      <th>CNT_FAM_MEMBERS</th>\n",
              "      <th>REGION_RATING_CLIENT</th>\n",
              "      <th>REGION_RATING_CLIENT_W_CITY</th>\n",
              "      <th>WEEKDAY_APPR_PROCESS_START</th>\n",
              "      <th>HOUR_APPR_PROCESS_START</th>\n",
              "      <th>REG_REGION_NOT_LIVE_REGION</th>\n",
              "      <th>REG_REGION_NOT_WORK_REGION</th>\n",
              "      <th>LIVE_REGION_NOT_WORK_REGION</th>\n",
              "      <th>REG_CITY_NOT_LIVE_CITY</th>\n",
              "      <th>REG_CITY_NOT_WORK_CITY</th>\n",
              "      <th>LIVE_CITY_NOT_WORK_CITY</th>\n",
              "      <th>...</th>\n",
              "      <th>LIVINGAPARTMENTS_MEDI</th>\n",
              "      <th>LIVINGAREA_MEDI</th>\n",
              "      <th>NONLIVINGAPARTMENTS_MEDI</th>\n",
              "      <th>NONLIVINGAREA_MEDI</th>\n",
              "      <th>FONDKAPREMONT_MODE</th>\n",
              "      <th>HOUSETYPE_MODE</th>\n",
              "      <th>TOTALAREA_MODE</th>\n",
              "      <th>WALLSMATERIAL_MODE</th>\n",
              "      <th>EMERGENCYSTATE_MODE</th>\n",
              "      <th>OBS_30_CNT_SOCIAL_CIRCLE</th>\n",
              "      <th>DEF_30_CNT_SOCIAL_CIRCLE</th>\n",
              "      <th>OBS_60_CNT_SOCIAL_CIRCLE</th>\n",
              "      <th>DEF_60_CNT_SOCIAL_CIRCLE</th>\n",
              "      <th>DAYS_LAST_PHONE_CHANGE</th>\n",
              "      <th>FLAG_DOCUMENT_2</th>\n",
              "      <th>FLAG_DOCUMENT_3</th>\n",
              "      <th>FLAG_DOCUMENT_4</th>\n",
              "      <th>FLAG_DOCUMENT_5</th>\n",
              "      <th>FLAG_DOCUMENT_6</th>\n",
              "      <th>FLAG_DOCUMENT_7</th>\n",
              "      <th>FLAG_DOCUMENT_8</th>\n",
              "      <th>FLAG_DOCUMENT_9</th>\n",
              "      <th>FLAG_DOCUMENT_10</th>\n",
              "      <th>FLAG_DOCUMENT_11</th>\n",
              "      <th>FLAG_DOCUMENT_12</th>\n",
              "      <th>FLAG_DOCUMENT_13</th>\n",
              "      <th>FLAG_DOCUMENT_14</th>\n",
              "      <th>FLAG_DOCUMENT_15</th>\n",
              "      <th>FLAG_DOCUMENT_16</th>\n",
              "      <th>FLAG_DOCUMENT_17</th>\n",
              "      <th>FLAG_DOCUMENT_18</th>\n",
              "      <th>FLAG_DOCUMENT_19</th>\n",
              "      <th>FLAG_DOCUMENT_20</th>\n",
              "      <th>FLAG_DOCUMENT_21</th>\n",
              "      <th>AMT_REQ_CREDIT_BUREAU_HOUR</th>\n",
              "      <th>AMT_REQ_CREDIT_BUREAU_DAY</th>\n",
              "      <th>AMT_REQ_CREDIT_BUREAU_WEEK</th>\n",
              "      <th>AMT_REQ_CREDIT_BUREAU_MON</th>\n",
              "      <th>AMT_REQ_CREDIT_BUREAU_QRT</th>\n",
              "      <th>AMT_REQ_CREDIT_BUREAU_YEAR</th>\n",
              "    </tr>\n",
              "  </thead>\n",
              "  <tbody>\n",
              "    <tr>\n",
              "      <th>0</th>\n",
              "      <td>100002</td>\n",
              "      <td>1</td>\n",
              "      <td>Cash loans</td>\n",
              "      <td>M</td>\n",
              "      <td>N</td>\n",
              "      <td>Y</td>\n",
              "      <td>0</td>\n",
              "      <td>202500.0</td>\n",
              "      <td>406597.5</td>\n",
              "      <td>24700.5</td>\n",
              "      <td>351000.0</td>\n",
              "      <td>Unaccompanied</td>\n",
              "      <td>Working</td>\n",
              "      <td>Secondary / secondary special</td>\n",
              "      <td>Single / not married</td>\n",
              "      <td>House / apartment</td>\n",
              "      <td>0.018801</td>\n",
              "      <td>-9461</td>\n",
              "      <td>-637</td>\n",
              "      <td>-3648.0</td>\n",
              "      <td>-2120</td>\n",
              "      <td>NaN</td>\n",
              "      <td>1</td>\n",
              "      <td>1</td>\n",
              "      <td>0</td>\n",
              "      <td>1</td>\n",
              "      <td>1</td>\n",
              "      <td>0</td>\n",
              "      <td>Laborers</td>\n",
              "      <td>1.0</td>\n",
              "      <td>2</td>\n",
              "      <td>2</td>\n",
              "      <td>WEDNESDAY</td>\n",
              "      <td>10</td>\n",
              "      <td>0</td>\n",
              "      <td>0</td>\n",
              "      <td>0</td>\n",
              "      <td>0</td>\n",
              "      <td>0</td>\n",
              "      <td>0</td>\n",
              "      <td>...</td>\n",
              "      <td>0.0205</td>\n",
              "      <td>0.0193</td>\n",
              "      <td>0.0000</td>\n",
              "      <td>0.00</td>\n",
              "      <td>reg oper account</td>\n",
              "      <td>block of flats</td>\n",
              "      <td>0.0149</td>\n",
              "      <td>Stone, brick</td>\n",
              "      <td>No</td>\n",
              "      <td>2.0</td>\n",
              "      <td>2.0</td>\n",
              "      <td>2.0</td>\n",
              "      <td>2.0</td>\n",
              "      <td>-1134.0</td>\n",
              "      <td>0</td>\n",
              "      <td>1</td>\n",
              "      <td>0</td>\n",
              "      <td>0</td>\n",
              "      <td>0</td>\n",
              "      <td>0</td>\n",
              "      <td>0</td>\n",
              "      <td>0</td>\n",
              "      <td>0</td>\n",
              "      <td>0</td>\n",
              "      <td>0</td>\n",
              "      <td>0</td>\n",
              "      <td>0</td>\n",
              "      <td>0</td>\n",
              "      <td>0</td>\n",
              "      <td>0</td>\n",
              "      <td>0</td>\n",
              "      <td>0</td>\n",
              "      <td>0</td>\n",
              "      <td>0</td>\n",
              "      <td>0.0</td>\n",
              "      <td>0.0</td>\n",
              "      <td>0.0</td>\n",
              "      <td>0.0</td>\n",
              "      <td>0.0</td>\n",
              "      <td>1.0</td>\n",
              "    </tr>\n",
              "    <tr>\n",
              "      <th>1</th>\n",
              "      <td>100003</td>\n",
              "      <td>0</td>\n",
              "      <td>Cash loans</td>\n",
              "      <td>F</td>\n",
              "      <td>N</td>\n",
              "      <td>N</td>\n",
              "      <td>0</td>\n",
              "      <td>270000.0</td>\n",
              "      <td>1293502.5</td>\n",
              "      <td>35698.5</td>\n",
              "      <td>1129500.0</td>\n",
              "      <td>Family</td>\n",
              "      <td>State servant</td>\n",
              "      <td>Higher education</td>\n",
              "      <td>Married</td>\n",
              "      <td>House / apartment</td>\n",
              "      <td>0.003541</td>\n",
              "      <td>-16765</td>\n",
              "      <td>-1188</td>\n",
              "      <td>-1186.0</td>\n",
              "      <td>-291</td>\n",
              "      <td>NaN</td>\n",
              "      <td>1</td>\n",
              "      <td>1</td>\n",
              "      <td>0</td>\n",
              "      <td>1</td>\n",
              "      <td>1</td>\n",
              "      <td>0</td>\n",
              "      <td>Core staff</td>\n",
              "      <td>2.0</td>\n",
              "      <td>1</td>\n",
              "      <td>1</td>\n",
              "      <td>MONDAY</td>\n",
              "      <td>11</td>\n",
              "      <td>0</td>\n",
              "      <td>0</td>\n",
              "      <td>0</td>\n",
              "      <td>0</td>\n",
              "      <td>0</td>\n",
              "      <td>0</td>\n",
              "      <td>...</td>\n",
              "      <td>0.0787</td>\n",
              "      <td>0.0558</td>\n",
              "      <td>0.0039</td>\n",
              "      <td>0.01</td>\n",
              "      <td>reg oper account</td>\n",
              "      <td>block of flats</td>\n",
              "      <td>0.0714</td>\n",
              "      <td>Block</td>\n",
              "      <td>No</td>\n",
              "      <td>1.0</td>\n",
              "      <td>0.0</td>\n",
              "      <td>1.0</td>\n",
              "      <td>0.0</td>\n",
              "      <td>-828.0</td>\n",
              "      <td>0</td>\n",
              "      <td>1</td>\n",
              "      <td>0</td>\n",
              "      <td>0</td>\n",
              "      <td>0</td>\n",
              "      <td>0</td>\n",
              "      <td>0</td>\n",
              "      <td>0</td>\n",
              "      <td>0</td>\n",
              "      <td>0</td>\n",
              "      <td>0</td>\n",
              "      <td>0</td>\n",
              "      <td>0</td>\n",
              "      <td>0</td>\n",
              "      <td>0</td>\n",
              "      <td>0</td>\n",
              "      <td>0</td>\n",
              "      <td>0</td>\n",
              "      <td>0</td>\n",
              "      <td>0</td>\n",
              "      <td>0.0</td>\n",
              "      <td>0.0</td>\n",
              "      <td>0.0</td>\n",
              "      <td>0.0</td>\n",
              "      <td>0.0</td>\n",
              "      <td>0.0</td>\n",
              "    </tr>\n",
              "    <tr>\n",
              "      <th>2</th>\n",
              "      <td>100004</td>\n",
              "      <td>0</td>\n",
              "      <td>Revolving loans</td>\n",
              "      <td>M</td>\n",
              "      <td>Y</td>\n",
              "      <td>Y</td>\n",
              "      <td>0</td>\n",
              "      <td>67500.0</td>\n",
              "      <td>135000.0</td>\n",
              "      <td>6750.0</td>\n",
              "      <td>135000.0</td>\n",
              "      <td>Unaccompanied</td>\n",
              "      <td>Working</td>\n",
              "      <td>Secondary / secondary special</td>\n",
              "      <td>Single / not married</td>\n",
              "      <td>House / apartment</td>\n",
              "      <td>0.010032</td>\n",
              "      <td>-19046</td>\n",
              "      <td>-225</td>\n",
              "      <td>-4260.0</td>\n",
              "      <td>-2531</td>\n",
              "      <td>26.0</td>\n",
              "      <td>1</td>\n",
              "      <td>1</td>\n",
              "      <td>1</td>\n",
              "      <td>1</td>\n",
              "      <td>1</td>\n",
              "      <td>0</td>\n",
              "      <td>Laborers</td>\n",
              "      <td>1.0</td>\n",
              "      <td>2</td>\n",
              "      <td>2</td>\n",
              "      <td>MONDAY</td>\n",
              "      <td>9</td>\n",
              "      <td>0</td>\n",
              "      <td>0</td>\n",
              "      <td>0</td>\n",
              "      <td>0</td>\n",
              "      <td>0</td>\n",
              "      <td>0</td>\n",
              "      <td>...</td>\n",
              "      <td>NaN</td>\n",
              "      <td>NaN</td>\n",
              "      <td>NaN</td>\n",
              "      <td>NaN</td>\n",
              "      <td>NaN</td>\n",
              "      <td>NaN</td>\n",
              "      <td>NaN</td>\n",
              "      <td>NaN</td>\n",
              "      <td>NaN</td>\n",
              "      <td>0.0</td>\n",
              "      <td>0.0</td>\n",
              "      <td>0.0</td>\n",
              "      <td>0.0</td>\n",
              "      <td>-815.0</td>\n",
              "      <td>0</td>\n",
              "      <td>0</td>\n",
              "      <td>0</td>\n",
              "      <td>0</td>\n",
              "      <td>0</td>\n",
              "      <td>0</td>\n",
              "      <td>0</td>\n",
              "      <td>0</td>\n",
              "      <td>0</td>\n",
              "      <td>0</td>\n",
              "      <td>0</td>\n",
              "      <td>0</td>\n",
              "      <td>0</td>\n",
              "      <td>0</td>\n",
              "      <td>0</td>\n",
              "      <td>0</td>\n",
              "      <td>0</td>\n",
              "      <td>0</td>\n",
              "      <td>0</td>\n",
              "      <td>0</td>\n",
              "      <td>0.0</td>\n",
              "      <td>0.0</td>\n",
              "      <td>0.0</td>\n",
              "      <td>0.0</td>\n",
              "      <td>0.0</td>\n",
              "      <td>0.0</td>\n",
              "    </tr>\n",
              "    <tr>\n",
              "      <th>3</th>\n",
              "      <td>100006</td>\n",
              "      <td>0</td>\n",
              "      <td>Cash loans</td>\n",
              "      <td>F</td>\n",
              "      <td>N</td>\n",
              "      <td>Y</td>\n",
              "      <td>0</td>\n",
              "      <td>135000.0</td>\n",
              "      <td>312682.5</td>\n",
              "      <td>29686.5</td>\n",
              "      <td>297000.0</td>\n",
              "      <td>Unaccompanied</td>\n",
              "      <td>Working</td>\n",
              "      <td>Secondary / secondary special</td>\n",
              "      <td>Civil marriage</td>\n",
              "      <td>House / apartment</td>\n",
              "      <td>0.008019</td>\n",
              "      <td>-19005</td>\n",
              "      <td>-3039</td>\n",
              "      <td>-9833.0</td>\n",
              "      <td>-2437</td>\n",
              "      <td>NaN</td>\n",
              "      <td>1</td>\n",
              "      <td>1</td>\n",
              "      <td>0</td>\n",
              "      <td>1</td>\n",
              "      <td>0</td>\n",
              "      <td>0</td>\n",
              "      <td>Laborers</td>\n",
              "      <td>2.0</td>\n",
              "      <td>2</td>\n",
              "      <td>2</td>\n",
              "      <td>WEDNESDAY</td>\n",
              "      <td>17</td>\n",
              "      <td>0</td>\n",
              "      <td>0</td>\n",
              "      <td>0</td>\n",
              "      <td>0</td>\n",
              "      <td>0</td>\n",
              "      <td>0</td>\n",
              "      <td>...</td>\n",
              "      <td>NaN</td>\n",
              "      <td>NaN</td>\n",
              "      <td>NaN</td>\n",
              "      <td>NaN</td>\n",
              "      <td>NaN</td>\n",
              "      <td>NaN</td>\n",
              "      <td>NaN</td>\n",
              "      <td>NaN</td>\n",
              "      <td>NaN</td>\n",
              "      <td>2.0</td>\n",
              "      <td>0.0</td>\n",
              "      <td>2.0</td>\n",
              "      <td>0.0</td>\n",
              "      <td>-617.0</td>\n",
              "      <td>0</td>\n",
              "      <td>1</td>\n",
              "      <td>0</td>\n",
              "      <td>0</td>\n",
              "      <td>0</td>\n",
              "      <td>0</td>\n",
              "      <td>0</td>\n",
              "      <td>0</td>\n",
              "      <td>0</td>\n",
              "      <td>0</td>\n",
              "      <td>0</td>\n",
              "      <td>0</td>\n",
              "      <td>0</td>\n",
              "      <td>0</td>\n",
              "      <td>0</td>\n",
              "      <td>0</td>\n",
              "      <td>0</td>\n",
              "      <td>0</td>\n",
              "      <td>0</td>\n",
              "      <td>0</td>\n",
              "      <td>NaN</td>\n",
              "      <td>NaN</td>\n",
              "      <td>NaN</td>\n",
              "      <td>NaN</td>\n",
              "      <td>NaN</td>\n",
              "      <td>NaN</td>\n",
              "    </tr>\n",
              "    <tr>\n",
              "      <th>4</th>\n",
              "      <td>100007</td>\n",
              "      <td>0</td>\n",
              "      <td>Cash loans</td>\n",
              "      <td>M</td>\n",
              "      <td>N</td>\n",
              "      <td>Y</td>\n",
              "      <td>0</td>\n",
              "      <td>121500.0</td>\n",
              "      <td>513000.0</td>\n",
              "      <td>21865.5</td>\n",
              "      <td>513000.0</td>\n",
              "      <td>Unaccompanied</td>\n",
              "      <td>Working</td>\n",
              "      <td>Secondary / secondary special</td>\n",
              "      <td>Single / not married</td>\n",
              "      <td>House / apartment</td>\n",
              "      <td>0.028663</td>\n",
              "      <td>-19932</td>\n",
              "      <td>-3038</td>\n",
              "      <td>-4311.0</td>\n",
              "      <td>-3458</td>\n",
              "      <td>NaN</td>\n",
              "      <td>1</td>\n",
              "      <td>1</td>\n",
              "      <td>0</td>\n",
              "      <td>1</td>\n",
              "      <td>0</td>\n",
              "      <td>0</td>\n",
              "      <td>Core staff</td>\n",
              "      <td>1.0</td>\n",
              "      <td>2</td>\n",
              "      <td>2</td>\n",
              "      <td>THURSDAY</td>\n",
              "      <td>11</td>\n",
              "      <td>0</td>\n",
              "      <td>0</td>\n",
              "      <td>0</td>\n",
              "      <td>0</td>\n",
              "      <td>1</td>\n",
              "      <td>1</td>\n",
              "      <td>...</td>\n",
              "      <td>NaN</td>\n",
              "      <td>NaN</td>\n",
              "      <td>NaN</td>\n",
              "      <td>NaN</td>\n",
              "      <td>NaN</td>\n",
              "      <td>NaN</td>\n",
              "      <td>NaN</td>\n",
              "      <td>NaN</td>\n",
              "      <td>NaN</td>\n",
              "      <td>0.0</td>\n",
              "      <td>0.0</td>\n",
              "      <td>0.0</td>\n",
              "      <td>0.0</td>\n",
              "      <td>-1106.0</td>\n",
              "      <td>0</td>\n",
              "      <td>0</td>\n",
              "      <td>0</td>\n",
              "      <td>0</td>\n",
              "      <td>0</td>\n",
              "      <td>0</td>\n",
              "      <td>1</td>\n",
              "      <td>0</td>\n",
              "      <td>0</td>\n",
              "      <td>0</td>\n",
              "      <td>0</td>\n",
              "      <td>0</td>\n",
              "      <td>0</td>\n",
              "      <td>0</td>\n",
              "      <td>0</td>\n",
              "      <td>0</td>\n",
              "      <td>0</td>\n",
              "      <td>0</td>\n",
              "      <td>0</td>\n",
              "      <td>0</td>\n",
              "      <td>0.0</td>\n",
              "      <td>0.0</td>\n",
              "      <td>0.0</td>\n",
              "      <td>0.0</td>\n",
              "      <td>0.0</td>\n",
              "      <td>0.0</td>\n",
              "    </tr>\n",
              "  </tbody>\n",
              "</table>\n",
              "<p>5 rows × 122 columns</p>\n",
              "</div>"
            ],
            "text/plain": [
              "   SK_ID_CURR  TARGET  ... AMT_REQ_CREDIT_BUREAU_QRT AMT_REQ_CREDIT_BUREAU_YEAR\n",
              "0      100002       1  ...                       0.0                        1.0\n",
              "1      100003       0  ...                       0.0                        0.0\n",
              "2      100004       0  ...                       0.0                        0.0\n",
              "3      100006       0  ...                       NaN                        NaN\n",
              "4      100007       0  ...                       0.0                        0.0\n",
              "\n",
              "[5 rows x 122 columns]"
            ]
          },
          "metadata": {
            "tags": []
          },
          "execution_count": 4
        }
      ]
    },
    {
      "cell_type": "markdown",
      "metadata": {
        "id": "LAoFyfZSvBQs"
      },
      "source": [
        "Check for null values in the dataset"
      ]
    },
    {
      "cell_type": "code",
      "metadata": {
        "colab": {
          "base_uri": "https://localhost:8080/",
          "height": 111
        },
        "id": "MSj7XHpKucUF",
        "outputId": "8e802b0c-6152-4288-c730-e4f62ffa8c0b"
      },
      "source": [
        "df.isna().sum()[1:10]\r\n",
        "df.select_dtypes(include=['object']).isnull().sum()\r\n",
        "str_col = [\"NAME_TYPE_SUITE\", \"OCCUPATION_TYPE\", \"FONDKAPREMONT_MODE\", \"HOUSETYPE_MODE\", \"WALLSMATERIAL_MODE\", \"EMERGENCYSTATE_MODE\"]\r\n",
        "df[str_col]=df[str_col].fillna(df.mode().iloc[0])\r\n",
        "df[str_col].head(2)"
      ],
      "execution_count": 5,
      "outputs": [
        {
          "output_type": "execute_result",
          "data": {
            "text/html": [
              "<div>\n",
              "<style scoped>\n",
              "    .dataframe tbody tr th:only-of-type {\n",
              "        vertical-align: middle;\n",
              "    }\n",
              "\n",
              "    .dataframe tbody tr th {\n",
              "        vertical-align: top;\n",
              "    }\n",
              "\n",
              "    .dataframe thead th {\n",
              "        text-align: right;\n",
              "    }\n",
              "</style>\n",
              "<table border=\"1\" class=\"dataframe\">\n",
              "  <thead>\n",
              "    <tr style=\"text-align: right;\">\n",
              "      <th></th>\n",
              "      <th>NAME_TYPE_SUITE</th>\n",
              "      <th>OCCUPATION_TYPE</th>\n",
              "      <th>FONDKAPREMONT_MODE</th>\n",
              "      <th>HOUSETYPE_MODE</th>\n",
              "      <th>WALLSMATERIAL_MODE</th>\n",
              "      <th>EMERGENCYSTATE_MODE</th>\n",
              "    </tr>\n",
              "  </thead>\n",
              "  <tbody>\n",
              "    <tr>\n",
              "      <th>0</th>\n",
              "      <td>Unaccompanied</td>\n",
              "      <td>Laborers</td>\n",
              "      <td>reg oper account</td>\n",
              "      <td>block of flats</td>\n",
              "      <td>Stone, brick</td>\n",
              "      <td>No</td>\n",
              "    </tr>\n",
              "    <tr>\n",
              "      <th>1</th>\n",
              "      <td>Family</td>\n",
              "      <td>Core staff</td>\n",
              "      <td>reg oper account</td>\n",
              "      <td>block of flats</td>\n",
              "      <td>Block</td>\n",
              "      <td>No</td>\n",
              "    </tr>\n",
              "  </tbody>\n",
              "</table>\n",
              "</div>"
            ],
            "text/plain": [
              "  NAME_TYPE_SUITE OCCUPATION_TYPE  ... WALLSMATERIAL_MODE EMERGENCYSTATE_MODE\n",
              "0   Unaccompanied        Laborers  ...       Stone, brick                  No\n",
              "1          Family      Core staff  ...              Block                  No\n",
              "\n",
              "[2 rows x 6 columns]"
            ]
          },
          "metadata": {
            "tags": []
          },
          "execution_count": 5
        }
      ]
    },
    {
      "cell_type": "code",
      "metadata": {
        "colab": {
          "base_uri": "https://localhost:8080/"
        },
        "id": "g70FZO7YucW2",
        "outputId": "8eadcae2-0ba1-403e-b71d-98853be1c1ae"
      },
      "source": [
        "df1 = df.drop(df.columns[44:86], axis=1) \r\n",
        "df1.shape\r\n"
      ],
      "execution_count": 6,
      "outputs": [
        {
          "output_type": "execute_result",
          "data": {
            "text/plain": [
              "(307511, 80)"
            ]
          },
          "metadata": {
            "tags": []
          },
          "execution_count": 6
        }
      ]
    },
    {
      "cell_type": "code",
      "metadata": {
        "colab": {
          "base_uri": "https://localhost:8080/"
        },
        "id": "qKn3beiUucZ-",
        "outputId": "1ffc3315-9e85-4c49-b9a3-0e696bb726ba"
      },
      "source": [
        "df1 = df1.drop(columns=[\"TOTALAREA_MODE\",\"OWN_CAR_AGE\", \"EXT_SOURCE_1\"])\r\n",
        "df1.shape"
      ],
      "execution_count": 15,
      "outputs": [
        {
          "output_type": "execute_result",
          "data": {
            "text/plain": [
              "(307511, 77)"
            ]
          },
          "metadata": {
            "tags": []
          },
          "execution_count": 15
        }
      ]
    },
    {
      "cell_type": "code",
      "metadata": {
        "colab": {
          "base_uri": "https://localhost:8080/"
        },
        "id": "zjrCUm7IY09K",
        "outputId": "539a1a1c-e648-4982-f4c8-6d3fd9de0dc8"
      },
      "source": [
        "df2 = df1.copy()\r\n",
        "df2.shape"
      ],
      "execution_count": 18,
      "outputs": [
        {
          "output_type": "execute_result",
          "data": {
            "text/plain": [
              "(307511, 77)"
            ]
          },
          "metadata": {
            "tags": []
          },
          "execution_count": 18
        }
      ]
    },
    {
      "cell_type": "code",
      "metadata": {
        "id": "A5YOo00RucdK"
      },
      "source": [
        "df2 = df2.dropna()\r\n"
      ],
      "execution_count": 19,
      "outputs": []
    },
    {
      "cell_type": "code",
      "metadata": {
        "colab": {
          "base_uri": "https://localhost:8080/"
        },
        "id": "ppgNvNArucgJ",
        "outputId": "813e44a0-8a9d-4695-862a-516e3f252b2f"
      },
      "source": [
        "df2.shape"
      ],
      "execution_count": 20,
      "outputs": [
        {
          "output_type": "execute_result",
          "data": {
            "text/plain": [
              "(245148, 77)"
            ]
          },
          "metadata": {
            "tags": []
          },
          "execution_count": 20
        }
      ]
    },
    {
      "cell_type": "markdown",
      "metadata": {
        "id": "o0qHsWYnZYCc"
      },
      "source": [
        " Print percentage of default to payer of the dataset for the TARGET column"
      ]
    },
    {
      "cell_type": "code",
      "metadata": {
        "colab": {
          "base_uri": "https://localhost:8080/",
          "height": 377
        },
        "id": "4Lo2jgsGPj0B",
        "outputId": "8aed6b0c-2002-4107-ad89-6edf0e82fe5d"
      },
      "source": [
        "target_saperated = df2.groupby('TARGET')['SK_ID_CURR'].count()\r\n",
        "print(target_saperated)\r\n",
        "target_saperated.plot.bar(title = \"loan_status\")"
      ],
      "execution_count": 21,
      "outputs": [
        {
          "output_type": "stream",
          "text": [
            "TARGET\n",
            "0    226077\n",
            "1     19071\n",
            "Name: SK_ID_CURR, dtype: int64\n"
          ],
          "name": "stdout"
        },
        {
          "output_type": "execute_result",
          "data": {
            "text/plain": [
              "<matplotlib.axes._subplots.AxesSubplot at 0x7f733e77bdd8>"
            ]
          },
          "metadata": {
            "tags": []
          },
          "execution_count": 21
        },
        {
          "output_type": "display_data",
          "data": {
            "image/png": "[encoded data removed]",
            "text/plain": [
              "<Figure size 432x288 with 1 Axes>"
            ]
          },
          "metadata": {
            "tags": [],
            "needs_background": "light"
          }
        }
      ]
    },
    {
      "cell_type": "markdown",
      "metadata": {
        "id": "r7cgbC2dZwJh"
      },
      "source": [
        "Balance the dataset if the data is imbalanced"
      ]
    },
    {
      "cell_type": "code",
      "metadata": {
        "colab": {
          "base_uri": "https://localhost:8080/"
        },
        "id": "yDQmKhdPucis",
        "outputId": "1f120fd5-f8a5-4e49-91a1-6f5afb7a5350"
      },
      "source": [
        "df_majority = df2[df2.TARGET==0]\r\n",
        "df_minority = df2[df2.TARGET==1]\r\n",
        "\r\n",
        "from sklearn.utils import resample\r\n",
        "df_minority_upsampled = resample(df_minority, \r\n",
        "                                 replace=True,     # sample with replacement\r\n",
        "                                 n_samples=307511,    # to match majority class\r\n",
        "                                 random_state=123)\r\n",
        "\r\n",
        "df_upsampled = pd.concat([df_majority, df_minority_upsampled])\r\n",
        "\r\n",
        "df_upsampled.TARGET.value_counts()\r\n",
        "\r\n"
      ],
      "execution_count": 22,
      "outputs": [
        {
          "output_type": "execute_result",
          "data": {
            "text/plain": [
              "1    307511\n",
              "0    226077\n",
              "Name: TARGET, dtype: int64"
            ]
          },
          "metadata": {
            "tags": []
          },
          "execution_count": 22
        }
      ]
    },
    {
      "cell_type": "markdown",
      "metadata": {
        "id": "RVOeyUIya1Vc"
      },
      "source": [
        "Plot the balanced data or imbalanced data"
      ]
    },
    {
      "cell_type": "code",
      "metadata": {
        "colab": {
          "base_uri": "https://localhost:8080/",
          "height": 295
        },
        "id": "73P3V9PwP-sP",
        "outputId": "decc36a1-30e2-4252-a4f9-3404638d283e"
      },
      "source": [
        "imbalanced= df2['TARGET'].value_counts()\r\n",
        "imbalanced.plot.bar(title = \"imbalanced data set\")"
      ],
      "execution_count": 23,
      "outputs": [
        {
          "output_type": "execute_result",
          "data": {
            "text/plain": [
              "<matplotlib.axes._subplots.AxesSubplot at 0x7f733d67c9e8>"
            ]
          },
          "metadata": {
            "tags": []
          },
          "execution_count": 23
        },
        {
          "output_type": "display_data",
          "data": {
            "image/png": "[encoded data removed]",
            "text/plain": [
              "<Figure size 432x288 with 1 Axes>"
            ]
          },
          "metadata": {
            "tags": [],
            "needs_background": "light"
          }
        }
      ]
    },
    {
      "cell_type": "code",
      "metadata": {
        "colab": {
          "base_uri": "https://localhost:8080/",
          "height": 295
        },
        "id": "tW8CCMOvbqm7",
        "outputId": "95d3f35b-bc54-48d8-9392-32822b5b79db"
      },
      "source": [
        "balanced= df_upsampled['TARGET'].value_counts()\r\n",
        "balanced.plot.bar(title = \"balanced data set\")"
      ],
      "execution_count": 24,
      "outputs": [
        {
          "output_type": "execute_result",
          "data": {
            "text/plain": [
              "<matplotlib.axes._subplots.AxesSubplot at 0x7f733d457a90>"
            ]
          },
          "metadata": {
            "tags": []
          },
          "execution_count": 24
        },
        {
          "output_type": "display_data",
          "data": {
            "image/png": "[encoded data removed]",
            "text/plain": [
              "<Figure size 432x288 with 1 Axes>"
            ]
          },
          "metadata": {
            "tags": [],
            "needs_background": "light"
          }
        }
      ]
    },
    {
      "cell_type": "markdown",
      "metadata": {
        "id": "VQFJDFgycI0d"
      },
      "source": [
        "Split Dataset into train and test"
      ]
    },
    {
      "cell_type": "code",
      "metadata": {
        "id": "uNCms8pmcbsP"
      },
      "source": [
        "X = df_upsampled.drop('TARGET',axis =1)\r\n",
        "y = df_upsampled['TARGET']\r\n",
        "\r\n",
        "x_imbalance = df2.drop('TARGET',axis=1)\r\n",
        "y_imbalance = df2['TARGET']"
      ],
      "execution_count": 28,
      "outputs": []
    },
    {
      "cell_type": "code",
      "metadata": {
        "colab": {
          "base_uri": "https://localhost:8080/"
        },
        "id": "G3EkkHqPcVyi",
        "outputId": "2579e2e0-3d64-4012-9f2f-9adb10acfae3"
      },
      "source": [
        "from sklearn.model_selection import train_test_split\r\n",
        "x_train, x_test, y_train, y_test = train_test_split(X,y, test_size = 0.33,random_state = 123)\r\n",
        "print(x_train.shape)\r\n",
        "print(y_train.shape)\r\n",
        "print(x_test.shape)\r\n",
        "print(y_test.shape)"
      ],
      "execution_count": 51,
      "outputs": [
        {
          "output_type": "stream",
          "text": [
            "(357503, 76)\n",
            "(357503,)\n",
            "(176085, 76)\n",
            "(176085,)\n"
          ],
          "name": "stdout"
        }
      ]
    },
    {
      "cell_type": "markdown",
      "metadata": {
        "id": "XaqqS1dycEw8"
      },
      "source": [
        "Encode the columns that is required for the model"
      ]
    },
    {
      "cell_type": "code",
      "metadata": {
        "colab": {
          "base_uri": "https://localhost:8080/"
        },
        "id": "DPvZrWZtcGb0",
        "outputId": "f430a578-ba17-444b-e6bf-4e01d93185aa"
      },
      "source": [
        "from sklearn.preprocessing import OrdinalEncoder\r\n",
        "oe = OrdinalEncoder()\r\n",
        "oe.fit(x_train)\r\n",
        "X_train_enc = oe.transform(x_train)\r\n",
        "X_test_enc = oe.fit_transform(x_test)\r\n"
      ],
      "execution_count": 52,
      "outputs": [
        {
          "output_type": "stream",
          "text": [
            "(357503, 76)\n",
            "(176085, 76)\n"
          ],
          "name": "stdout"
        }
      ]
    },
    {
      "cell_type": "code",
      "metadata": {
        "colab": {
          "base_uri": "https://localhost:8080/"
        },
        "id": "EGM0gw7rewDP",
        "outputId": "7331ae98-bc1b-4f0a-dba3-067b773ae63d"
      },
      "source": [
        "from sklearn.preprocessing import LabelEncoder\r\n",
        "le = LabelEncoder()\r\n",
        "le.fit(y_train)\r\n",
        "y_train_enc = le.transform(y_train)\r\n",
        "y_test_enc = le.fit_transform(y_test)\r\n",
        "print(y_train_enc.shape)\r\n",
        "print(y_test_enc.shape)"
      ],
      "execution_count": 53,
      "outputs": [
        {
          "output_type": "stream",
          "text": [
            "(357503,)\n",
            "(176085,)\n"
          ],
          "name": "stdout"
        }
      ]
    },
    {
      "cell_type": "code",
      "metadata": {
        "id": "5W_J7TXJfuus"
      },
      "source": [
        "from sklearn.linear_model import LogisticRegression\r\n",
        "from sklearn.metrics import accuracy_score\r\n",
        "from sklearn.metrics import confusion_matrix\r\n",
        "from sklearn.metrics import classification_report\r\n",
        "from sklearn.metrics import roc_auc_score\r\n",
        "logreg = LogisticRegression()"
      ],
      "execution_count": 66,
      "outputs": []
    },
    {
      "cell_type": "markdown",
      "metadata": {
        "id": "naVRX2oRgPMb"
      },
      "source": [
        "Calculate Sensitivity as a metrice"
      ]
    },
    {
      "cell_type": "code",
      "metadata": {
        "id": "gB4RVwO2gpeo"
      },
      "source": [
        "model1 = logreg.fit(X_train_enc, y_train_enc)\r\n"
      ],
      "execution_count": null,
      "outputs": []
    },
    {
      "cell_type": "code",
      "metadata": {
        "colab": {
          "base_uri": "https://localhost:8080/"
        },
        "id": "x6NrvAQjgpPB",
        "outputId": "737f705c-f4f8-4253-8b92-0db1fb1deace"
      },
      "source": [
        "ytesthat = model1.predict(X_test_enc)\r\n",
        "print(X_test_enc.shape)\r\n",
        "print(y_test_enc.shape)\r\n",
        "print(ytesthat.shape)"
      ],
      "execution_count": 57,
      "outputs": [
        {
          "output_type": "stream",
          "text": [
            "(176085, 76)\n",
            "(176085,)\n",
            "(176085,)\n"
          ],
          "name": "stdout"
        }
      ]
    },
    {
      "cell_type": "code",
      "metadata": {
        "colab": {
          "base_uri": "https://localhost:8080/"
        },
        "id": "fhuNLHPehuK7",
        "outputId": "52304d93-a109-4483-cc30-b2a80564fa99"
      },
      "source": [
        "confusion_matrix = confusion_matrix(y_test_enc,ytesthat)\r\n",
        "confusion_matrix"
      ],
      "execution_count": 62,
      "outputs": [
        {
          "output_type": "execute_result",
          "data": {
            "text/plain": [
              "array([[40739, 33810],\n",
              "       [24527, 77009]])"
            ]
          },
          "metadata": {
            "tags": []
          },
          "execution_count": 62
        }
      ]
    },
    {
      "cell_type": "code",
      "metadata": {
        "id": "zAphI2hEwP_s"
      },
      "source": [
        "ns_probs = [0 for _ in range(len(y_test_enc))]"
      ],
      "execution_count": 80,
      "outputs": []
    },
    {
      "cell_type": "code",
      "metadata": {
        "colab": {
          "base_uri": "https://localhost:8080/"
        },
        "id": "__xm5OZ1htnB",
        "outputId": "aad3c363-c589-4707-82fb-8192423f3da0"
      },
      "source": [
        "print(confusion_matrix)\r\n",
        "print(classification_report(y_test_enc,ytesthat))"
      ],
      "execution_count": 61,
      "outputs": [
        {
          "output_type": "stream",
          "text": [
            "<function confusion_matrix at 0x7f733c284d08>\n",
            "              precision    recall  f1-score   support\n",
            "\n",
            "           0       0.62      0.55      0.58     74549\n",
            "           1       0.69      0.76      0.73    101536\n",
            "\n",
            "    accuracy                           0.67    176085\n",
            "   macro avg       0.66      0.65      0.65    176085\n",
            "weighted avg       0.66      0.67      0.66    176085\n",
            "\n"
          ],
          "name": "stdout"
        }
      ]
    },
    {
      "cell_type": "code",
      "metadata": {
        "colab": {
          "base_uri": "https://localhost:8080/"
        },
        "id": "RVv2LUglYPME",
        "outputId": "0546f087-2ce7-4960-e7b6-0ea7a24d55fc"
      },
      "source": [
        "sensitivity = confusion_matrix[0][0]/(confusion_matrix[0,0]+confusion_matrix[0,1])\r\n",
        "print('Sensitivity : ', sensitivity)"
      ],
      "execution_count": 65,
      "outputs": [
        {
          "output_type": "stream",
          "text": [
            "Sensitivity :  0.5464727897087821\n"
          ],
          "name": "stdout"
        }
      ]
    },
    {
      "cell_type": "markdown",
      "metadata": {
        "id": "H-1ig3UlZUBH"
      },
      "source": [
        "Calculate area under receiver operating characteristics curve"
      ]
    },
    {
      "cell_type": "code",
      "metadata": {
        "colab": {
          "base_uri": "https://localhost:8080/"
        },
        "id": "C-oqfo6vhtV1",
        "outputId": "81795091-4e8b-4cca-c123-7539519fd26f"
      },
      "source": [
        "# calculate scores\r\n",
        "roc = roc_auc_score(y_test_enc,ytesthat)\r\n",
        "roc1 = roc_auc_score(y_test_enc,ns_probs)\r\n",
        "print(\"% 3f\" %(roc))\r\n",
        "print(roc1)"
      ],
      "execution_count": 85,
      "outputs": [
        {
          "output_type": "stream",
          "text": [
            " 0.652457\n",
            "0.5\n"
          ],
          "name": "stdout"
        }
      ]
    },
    {
      "cell_type": "code",
      "metadata": {
        "id": "yO5EiHOMx0Vk"
      },
      "source": [
        "# calculate roc curves\r\n",
        "from sklearn.metrics import roc_curve\r\n",
        "lr_fpr, lr_tpr, thresholds = roc_curve(y_test_enc,ytesthat)\r\n",
        "ns_fpr, ns_tpr, thresholds = roc_curve(y_test_enc,ns_probs)"
      ],
      "execution_count": 89,
      "outputs": []
    },
    {
      "cell_type": "code",
      "metadata": {
        "colab": {
          "base_uri": "https://localhost:8080/",
          "height": 282
        },
        "id": "PFHkUn7Oy1MY",
        "outputId": "0ddd5314-6994-4d90-945c-76c7c2b9669b"
      },
      "source": [
        "# plot the roc curve for the model\r\n",
        "from matplotlib import pyplot\r\n",
        "pyplot.plot(ns_fpr, ns_tpr, linestyle='--', label='roc1')\r\n",
        "pyplot.plot(lr_fpr, lr_tpr, marker='.', label='roc')"
      ],
      "execution_count": 91,
      "outputs": [
        {
          "output_type": "execute_result",
          "data": {
            "text/plain": [
              "[<matplotlib.lines.Line2D at 0x7f733d31f198>]"
            ]
          },
          "metadata": {
            "tags": []
          },
          "execution_count": 91
        },
        {
          "output_type": "display_data",
          "data": {
            "image/png": "[encoded data removed]",
            "text/plain": [
              "<Figure size 432x288 with 1 Axes>"
            ]
          },
          "metadata": {
            "tags": [],
            "needs_background": "light"
          }
        }
      ]
    },
    {
      "cell_type": "markdown",
      "metadata": {
        "id": "f7bmn8YNioot"
      },
      "source": [
        "Building  Deep learning model prediction"
      ]
    },
    {
      "cell_type": "code",
      "metadata": {
        "colab": {
          "base_uri": "https://localhost:8080/"
        },
        "id": "TT-B7d_Yev1f",
        "outputId": "d4d8b844-6977-4a27-e4d9-ca7151117a86"
      },
      "source": [
        "from keras.models import Sequential\r\n",
        "from keras.layers import Dense, Dropout\r\n",
        "# define the model\r\n",
        "model = Sequential()\r\n",
        "model.add(Dense(60, input_dim= X_train_enc.shape[1], activation='relu', kernel_initializer='he_normal'))\r\n",
        "model.add(Dense(12, activation = 'relu'))\r\n",
        "model.add(Dense(1, activation='sigmoid'))\r\n",
        "model.summary()"
      ],
      "execution_count": 92,
      "outputs": [
        {
          "output_type": "stream",
          "text": [
            "Model: \"sequential_1\"\n",
            "_________________________________________________________________\n",
            "Layer (type)                 Output Shape              Param #   \n",
            "=================================================================\n",
            "dense_3 (Dense)              (None, 60)                4620      \n",
            "_________________________________________________________________\n",
            "dense_4 (Dense)              (None, 12)                732       \n",
            "_________________________________________________________________\n",
            "dense_5 (Dense)              (None, 1)                 13        \n",
            "=================================================================\n",
            "Total params: 5,365\n",
            "Trainable params: 5,365\n",
            "Non-trainable params: 0\n",
            "_________________________________________________________________\n"
          ],
          "name": "stdout"
        }
      ]
    },
    {
      "cell_type": "code",
      "metadata": {
        "id": "1HDxfHXhevqP"
      },
      "source": [
        "model.compile(loss='binary_crossentropy', optimizer = 'adam', metrics =['accuracy'])"
      ],
      "execution_count": 93,
      "outputs": []
    },
    {
      "cell_type": "code",
      "metadata": {
        "colab": {
          "base_uri": "https://localhost:8080/"
        },
        "id": "bZuMe3EvdCJS",
        "outputId": "78902562-119e-4f5f-cd5e-6904df7f21d0"
      },
      "source": [
        "history = model.fit(X_train_enc, y_train_enc, epochs=40, batch_size=32, validation_data=(X_test_enc, y_test_enc))"
      ],
      "execution_count": 94,
      "outputs": [
        {
          "output_type": "stream",
          "text": [
            "Epoch 1/40\n",
            "11172/11172 [==============================] - 18s 2ms/step - loss: 35.9748 - accuracy: 0.5721 - val_loss: 0.6963 - val_accuracy: 0.5767\n",
            "Epoch 2/40\n",
            "11172/11172 [==============================] - 18s 2ms/step - loss: 0.6819 - accuracy: 0.5756 - val_loss: 0.6814 - val_accuracy: 0.5766\n",
            "Epoch 3/40\n",
            "11172/11172 [==============================] - 18s 2ms/step - loss: 0.6816 - accuracy: 0.5760 - val_loss: 0.6814 - val_accuracy: 0.5766\n",
            "Epoch 4/40\n",
            "11172/11172 [==============================] - 18s 2ms/step - loss: 0.6816 - accuracy: 0.5759 - val_loss: 0.6814 - val_accuracy: 0.5766\n",
            "Epoch 5/40\n",
            "11172/11172 [==============================] - 18s 2ms/step - loss: 0.6820 - accuracy: 0.5746 - val_loss: 0.6814 - val_accuracy: 0.5766\n",
            "Epoch 6/40\n",
            "11172/11172 [==============================] - 19s 2ms/step - loss: 0.6818 - accuracy: 0.5753 - val_loss: 0.6814 - val_accuracy: 0.5766\n",
            "Epoch 7/40\n",
            "11172/11172 [==============================] - 18s 2ms/step - loss: 0.6817 - accuracy: 0.5757 - val_loss: 0.6814 - val_accuracy: 0.5766\n",
            "Epoch 8/40\n",
            "11172/11172 [==============================] - 19s 2ms/step - loss: 0.6820 - accuracy: 0.5744 - val_loss: 0.6814 - val_accuracy: 0.5766\n",
            "Epoch 9/40\n",
            "11172/11172 [==============================] - 18s 2ms/step - loss: 0.6813 - accuracy: 0.5770 - val_loss: 0.6814 - val_accuracy: 0.5766\n",
            "Epoch 10/40\n",
            "11172/11172 [==============================] - 18s 2ms/step - loss: 0.6814 - accuracy: 0.5767 - val_loss: 0.6814 - val_accuracy: 0.5766\n",
            "Epoch 11/40\n",
            "11172/11172 [==============================] - 19s 2ms/step - loss: 0.6811 - accuracy: 0.5777 - val_loss: 0.6814 - val_accuracy: 0.5766\n",
            "Epoch 12/40\n",
            "11172/11172 [==============================] - 18s 2ms/step - loss: 0.6814 - accuracy: 0.5765 - val_loss: 0.6814 - val_accuracy: 0.5766\n",
            "Epoch 13/40\n",
            "11172/11172 [==============================] - 19s 2ms/step - loss: 0.6814 - accuracy: 0.5766 - val_loss: 0.6814 - val_accuracy: 0.5766\n",
            "Epoch 14/40\n",
            "11172/11172 [==============================] - 18s 2ms/step - loss: 0.6818 - accuracy: 0.5753 - val_loss: 0.6814 - val_accuracy: 0.5766\n",
            "Epoch 15/40\n",
            "11172/11172 [==============================] - 18s 2ms/step - loss: 0.6810 - accuracy: 0.5780 - val_loss: 0.6813 - val_accuracy: 0.5766\n",
            "Epoch 16/40\n",
            "11172/11172 [==============================] - 19s 2ms/step - loss: 0.6813 - accuracy: 0.5769 - val_loss: 0.6814 - val_accuracy: 0.5766\n",
            "Epoch 17/40\n",
            "11172/11172 [==============================] - 18s 2ms/step - loss: 0.6811 - accuracy: 0.5774 - val_loss: 0.6814 - val_accuracy: 0.5766\n",
            "Epoch 18/40\n",
            "11172/11172 [==============================] - 19s 2ms/step - loss: 0.6814 - accuracy: 0.5765 - val_loss: 0.6814 - val_accuracy: 0.5766\n",
            "Epoch 19/40\n",
            "11172/11172 [==============================] - 18s 2ms/step - loss: 0.6816 - accuracy: 0.5759 - val_loss: 0.6814 - val_accuracy: 0.5766\n",
            "Epoch 20/40\n",
            "11172/11172 [==============================] - 18s 2ms/step - loss: 0.6820 - accuracy: 0.5747 - val_loss: 0.6813 - val_accuracy: 0.5766\n",
            "Epoch 21/40\n",
            "11172/11172 [==============================] - 18s 2ms/step - loss: 0.6816 - accuracy: 0.5761 - val_loss: 0.6814 - val_accuracy: 0.5766\n",
            "Epoch 22/40\n",
            "11172/11172 [==============================] - 18s 2ms/step - loss: 0.6816 - accuracy: 0.5761 - val_loss: 0.6814 - val_accuracy: 0.5766\n",
            "Epoch 23/40\n",
            "11172/11172 [==============================] - 18s 2ms/step - loss: 0.6815 - accuracy: 0.5764 - val_loss: 0.6814 - val_accuracy: 0.5766\n",
            "Epoch 24/40\n",
            "11172/11172 [==============================] - 19s 2ms/step - loss: 0.6818 - accuracy: 0.5754 - val_loss: 0.6814 - val_accuracy: 0.5766\n",
            "Epoch 25/40\n",
            "11172/11172 [==============================] - 18s 2ms/step - loss: 0.6814 - accuracy: 0.5767 - val_loss: 0.6814 - val_accuracy: 0.5766\n",
            "Epoch 26/40\n",
            "11172/11172 [==============================] - 18s 2ms/step - loss: 0.6814 - accuracy: 0.5767 - val_loss: 0.6814 - val_accuracy: 0.5766\n",
            "Epoch 27/40\n",
            "11172/11172 [==============================] - 20s 2ms/step - loss: 0.6820 - accuracy: 0.5746 - val_loss: 0.6814 - val_accuracy: 0.5766\n",
            "Epoch 28/40\n",
            "11172/11172 [==============================] - 18s 2ms/step - loss: 0.6815 - accuracy: 0.5761 - val_loss: 0.6814 - val_accuracy: 0.5766\n",
            "Epoch 29/40\n",
            "11172/11172 [==============================] - 19s 2ms/step - loss: 0.6812 - accuracy: 0.5774 - val_loss: 0.6814 - val_accuracy: 0.5766\n",
            "Epoch 30/40\n",
            "11172/11172 [==============================] - 19s 2ms/step - loss: 0.6818 - accuracy: 0.5753 - val_loss: 0.6813 - val_accuracy: 0.5766\n",
            "Epoch 31/40\n",
            "11172/11172 [==============================] - 18s 2ms/step - loss: 0.6813 - accuracy: 0.5769 - val_loss: 0.6814 - val_accuracy: 0.5766\n",
            "Epoch 32/40\n",
            "11172/11172 [==============================] - 18s 2ms/step - loss: 0.6818 - accuracy: 0.5751 - val_loss: 0.6814 - val_accuracy: 0.5766\n",
            "Epoch 33/40\n",
            "11172/11172 [==============================] - 18s 2ms/step - loss: 0.6814 - accuracy: 0.5766 - val_loss: 0.6814 - val_accuracy: 0.5766\n",
            "Epoch 34/40\n",
            "11172/11172 [==============================] - 18s 2ms/step - loss: 0.6817 - accuracy: 0.5756 - val_loss: 0.6814 - val_accuracy: 0.5766\n",
            "Epoch 35/40\n",
            "11172/11172 [==============================] - 18s 2ms/step - loss: 0.6813 - accuracy: 0.5770 - val_loss: 0.6814 - val_accuracy: 0.5766\n",
            "Epoch 36/40\n",
            "11172/11172 [==============================] - 18s 2ms/step - loss: 0.6815 - accuracy: 0.5761 - val_loss: 0.6815 - val_accuracy: 0.5766\n",
            "Epoch 37/40\n",
            "11172/11172 [==============================] - 19s 2ms/step - loss: 0.6816 - accuracy: 0.5759 - val_loss: 0.6814 - val_accuracy: 0.5766\n",
            "Epoch 38/40\n",
            "11172/11172 [==============================] - 19s 2ms/step - loss: 0.6817 - accuracy: 0.5754 - val_loss: 0.6814 - val_accuracy: 0.5766\n",
            "Epoch 39/40\n",
            "11172/11172 [==============================] - 18s 2ms/step - loss: 0.6815 - accuracy: 0.5762 - val_loss: 0.6814 - val_accuracy: 0.5766\n",
            "Epoch 40/40\n",
            "11172/11172 [==============================] - 19s 2ms/step - loss: 0.6817 - accuracy: 0.5755 - val_loss: 0.6814 - val_accuracy: 0.5766\n"
          ],
          "name": "stdout"
        }
      ]
    },
    {
      "cell_type": "code",
      "metadata": {
        "id": "vtNCG3PqoI7X"
      },
      "source": [
        "train_loss, train_acc = model.evaluate(X_train_enc, y_train_enc, verbose=0)\r\n",
        "test_loss, test_acc = model.evaluate(X_test_enc, y_test_enc, verbose=0)"
      ],
      "execution_count": 210,
      "outputs": []
    },
    {
      "cell_type": "code",
      "metadata": {
        "colab": {
          "base_uri": "https://localhost:8080/",
          "height": 180
        },
        "id": "Vr81PrKGC3ZR",
        "outputId": "7411cfb9-5580-4eda-e4e4-713e7f092863"
      },
      "source": [
        "from matplotlib import pyplot\r\n",
        "pyplot.subplot(211)\r\n",
        "pyplot.title('Loss')\r\n",
        "pyplot.plot(history.history['loss'], label='train')\r\n",
        "pyplot.plot(history.history['val_loss'], label='test')\r\n",
        "pyplot.legend()"
      ],
      "execution_count": 200,
      "outputs": [
        {
          "output_type": "execute_result",
          "data": {
            "text/plain": [
              "<matplotlib.legend.Legend at 0x7f3564fdcef0>"
            ]
          },
          "metadata": {
            "tags": []
          },
          "execution_count": 200
        },
        {
          "output_type": "display_data",
          "data": {
            "image/png": "[encoded data removed]",
            "text/plain": [
              "<Figure size 432x288 with 1 Axes>"
            ]
          },
          "metadata": {
            "tags": [],
            "needs_background": "light"
          }
        }
      ]
    },
    {
      "cell_type": "code",
      "metadata": {
        "colab": {
          "base_uri": "https://localhost:8080/",
          "height": 163
        },
        "id": "S1TDZwwMC3BZ",
        "outputId": "55f7704d-d122-429c-e622-f559b02129ac"
      },
      "source": [
        "pyplot.subplot(212)\r\n",
        "pyplot.title('Accuracy')\r\n",
        "pyplot.plot(history.history['accuracy'], label='train')\r\n",
        "pyplot.plot(history.history['val_accuracy'], label='test')\r\n",
        "pyplot.legend()\r\n",
        "pyplot.show()"
      ],
      "execution_count": 201,
      "outputs": [
        {
          "output_type": "display_data",
          "data": {
            "image/png": "[encoded data removed]",
            "text/plain": [
              "<Figure size 432x288 with 1 Axes>"
            ]
          },
          "metadata": {
            "tags": [],
            "needs_background": "light"
          }
        }
      ]
    },
    {
      "cell_type": "code",
      "metadata": {
        "colab": {
          "base_uri": "https://localhost:8080/"
        },
        "id": "VPEle_PvOdIt",
        "outputId": "1d188080-7446-4dc4-8fb5-69a14b6d2022"
      },
      "source": [
        "train_acc"
      ],
      "execution_count": 211,
      "outputs": [
        {
          "output_type": "execute_result",
          "data": {
            "text/plain": [
              "0.6844614148139954"
            ]
          },
          "metadata": {
            "tags": []
          },
          "execution_count": 211
        }
      ]
    },
    {
      "cell_type": "code",
      "metadata": {
        "id": "XvU8zKpwC2f3"
      },
      "source": [
        ""
      ],
      "execution_count": 218,
      "outputs": []
    }
  ]
}